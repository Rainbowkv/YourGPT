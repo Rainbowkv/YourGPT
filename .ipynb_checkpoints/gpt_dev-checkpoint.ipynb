{
 "cells": [
  {
   "cell_type": "code",
   "execution_count": 1,
   "id": "666857ec",
   "metadata": {},
   "outputs": [],
   "source": [
    "import torch"
   ]
  },
  {
   "cell_type": "code",
   "execution_count": 2,
   "id": "f6c17a3b",
   "metadata": {},
   "outputs": [],
   "source": [
    "torch.manual_seed(1337)\n",
    "B, T, C = 4, 8, 2\n",
    "x = torch.randn(B, T, C)"
   ]
  },
  {
   "cell_type": "code",
   "execution_count": 3,
   "id": "88652369",
   "metadata": {},
   "outputs": [],
   "source": [
    "# 方法1\n",
    "xbow = torch.zeros(B, T, C)  # 较慢，但直观的循环实现\n",
    "for b in range(B):\n",
    "    for t in range(T):\n",
    "        xprev = x[b, :t+1]\n",
    "        xbow[b, t] = torch.mean(xprev, 0)"
   ]
  },
  {
   "cell_type": "code",
   "execution_count": 4,
   "id": "bb8fb30f",
   "metadata": {},
   "outputs": [
    {
     "name": "stdout",
     "output_type": "stream",
     "text": [
      "True\n"
     ]
    }
   ],
   "source": [
    "# 方法2\n",
    "xbow2 = torch.zeros(B, T, C)\n",
    "W2 = torch.tril(torch.ones(T, T))  # 技巧矩阵\n",
    "W2 = W2 / W2.sum(1, keepdim=True)\n",
    "xbow2 = W2 @ x  # python的广播性质，(T, T) @ (B, T, C) -> 前者会与后者B个(T, C)做矩阵乘法，且是并行计算的。\n",
    "print(torch.allclose(xbow, xbow2, atol=1e-6, rtol=1e-4))  # 检查结果是否一致。由于环境的差异，当肉眼检查相等时，您应该尝试调整误差容忍。"
   ]
  },
  {
   "cell_type": "code",
   "execution_count": null,
   "id": "b029f927",
   "metadata": {},
   "outputs": [],
   "source": [
    "# 方法3\n",
    "tril = torch.tril(torch.ones(T, T))\n",
    "W2 = "
   ]
  },
  {
   "cell_type": "markdown",
   "id": "6493fe23",
   "metadata": {},
   "source": [
    "下面为一些解释，前面如果都理解，不需要看。"
   ]
  },
  {
   "cell_type": "code",
   "execution_count": 136,
   "id": "13be789a",
   "metadata": {},
   "outputs": [
    {
     "name": "stdout",
     "output_type": "stream",
     "text": [
      "tensor([[ 1.6455, -0.8030],\n",
      "        [ 1.4985, -0.5395],\n",
      "        [ 0.4954,  0.3420],\n",
      "        [ 1.0623, -0.1802],\n",
      "        [ 1.1401, -0.4462],\n",
      "        [ 1.0870, -0.4071],\n",
      "        [ 1.0430, -0.1299],\n",
      "        [ 1.1138, -0.1641]])\n",
      "tensor([[ 1.6455, -0.8030],\n",
      "        [ 1.4985, -0.5395],\n",
      "        [ 0.4954,  0.3420],\n",
      "        [ 1.0623, -0.1802],\n",
      "        [ 1.1401, -0.4462],\n",
      "        [ 1.0870, -0.4071],\n",
      "        [ 1.0430, -0.1299],\n",
      "        [ 1.1138, -0.1641]])\n"
     ]
    }
   ],
   "source": [
    "print(xbow[3])\n",
    "print(xbow2[3])"
   ]
  },
  {
   "cell_type": "code",
   "execution_count": 137,
   "id": "fb9cd24f",
   "metadata": {},
   "outputs": [
    {
     "name": "stdout",
     "output_type": "stream",
     "text": [
      "a = tensor([[1., 0., 0.],\n",
      "        [1., 1., 0.],\n",
      "        [1., 1., 1.]])\n",
      "b = tensor([[8., 6.],\n",
      "        [5., 2.],\n",
      "        [4., 4.]])\n",
      "a @ b = tensor([[ 8.,  6.],\n",
      "        [13.,  8.],\n",
      "        [17., 12.]])\n",
      "__________\n",
      "a = tensor([[1.0000, 0.0000, 0.0000],\n",
      "        [0.5000, 0.5000, 0.0000],\n",
      "        [0.3333, 0.3333, 0.3333]])\n",
      "b = tensor([[8., 6.],\n",
      "        [5., 2.],\n",
      "        [4., 4.]])\n",
      "a @ b = tensor([[8.0000, 6.0000],\n",
      "        [6.5000, 4.0000],\n",
      "        [5.6667, 4.0000]])\n"
     ]
    }
   ],
   "source": [
    "# 矩阵技巧解释\n",
    "a = torch.tril(torch.ones(3, 3))\n",
    "b = torch.randint(0, 10, (3, 2)).float()\n",
    "print(f\"a = {a}\")\n",
    "print(f\"b = {b}\")\n",
    "print(f\"a @ b = {a @ b}\")\n",
    "print(\"__________\")\n",
    "a = a / a.sum(1, keepdim=True)\n",
    "print(f\"a = {a}\")\n",
    "print(f\"b = {b}\")\n",
    "print(f\"a @ b = {a @ b}\")"
   ]
  },
  {
   "cell_type": "code",
   "execution_count": 138,
   "id": "0dd70997",
   "metadata": {},
   "outputs": [
    {
     "name": "stdout",
     "output_type": "stream",
     "text": [
      "a = tensor([[1., 0., 0.],\n",
      "        [1., 1., 0.],\n",
      "        [1., 1., 1.]])\n",
      "_______________\n",
      "tensor([[1.],\n",
      "        [2.],\n",
      "        [3.]])\n",
      "tensor([1., 2., 3.])\n",
      "_______________\n",
      "tensor([[3., 2., 1.]])\n",
      "tensor([3., 2., 1.])\n",
      "tensor([3., 2., 1.])\n",
      "_______________\n",
      "tensor([[1.0000, 0.0000, 0.0000],\n",
      "        [0.5000, 0.5000, 0.0000],\n",
      "        [0.3333, 0.3333, 0.3333]])\n",
      "tensor([[0.3333, 0.0000, 0.0000],\n",
      "        [0.3333, 0.5000, 0.0000],\n",
      "        [0.3333, 0.5000, 1.0000]])\n"
     ]
    }
   ],
   "source": [
    "# a.sum(1, keepdim=True)解释\n",
    "a = torch.tril(torch.ones(3, 3))\n",
    "print(f\"a = {a}\")\n",
    "print(\"_______________\")\n",
    "print(a.sum(1, keepdim=True))\n",
    "print(a.sum(1, keepdim=False))\n",
    "print(\"_______________\")\n",
    "print(a.sum(0, keepdim=True))\n",
    "print(a.sum(0, keepdim=False))\n",
    "print(a.sum(0))\n",
    "print(\"_______________\")\n",
    "print(a/a.sum(1, keepdim=True))\n",
    "print(a/a.sum(0))"
   ]
  }
 ],
 "metadata": {
  "kernelspec": {
   "display_name": "rainbow_GPT",
   "language": "python",
   "name": "rainbow_gpt"
  },
  "language_info": {
   "codemirror_mode": {
    "name": "ipython",
    "version": 3
   },
   "file_extension": ".py",
   "mimetype": "text/x-python",
   "name": "python",
   "nbconvert_exporter": "python",
   "pygments_lexer": "ipython3",
   "version": "3.8.19"
  }
 },
 "nbformat": 4,
 "nbformat_minor": 5
}
